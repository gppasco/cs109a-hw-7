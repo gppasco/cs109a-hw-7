{
  "nbformat": 4,
  "nbformat_minor": 0,
  "metadata": {
    "colab": {
      "name": "hw7_model.ipynb",
      "provenance": [],
      "collapsed_sections": []
    },
    "kernelspec": {
      "name": "python3",
      "display_name": "Python 3"
    }
  },
  "cells": [
    {
      "cell_type": "code",
      "metadata": {
        "colab": {
          "base_uri": "https://localhost:8080/",
          "height": 17
        },
        "id": "zmgoPS54pDZE",
        "outputId": "956ed9af-f635-442d-94d5-4867a65e640b"
      },
      "source": [
        "## RUN THIS CELL TO PROPERLY HIGHLIGHT CELLS\n",
        "import requests\n",
        "from IPython.core.display import HTML\n",
        "styles = requests.get(\"https://raw.githubusercontent.com/Harvard-IACS/2018-CS109A/master/content/styles/cs109.css\").text\n",
        "HTML(styles)"
      ],
      "execution_count": 1,
      "outputs": [
        {
          "output_type": "execute_result",
          "data": {
            "text/html": [
              "<style>\n",
              "blockquote { background: #AEDE94; }\n",
              "h1 { \n",
              "    padding-top: 25px;\n",
              "    padding-bottom: 25px;\n",
              "    text-align: left; \n",
              "    padding-left: 10px;\n",
              "    background-color: #DDDDDD; \n",
              "    color: black;\n",
              "}\n",
              "h2 { \n",
              "    padding-top: 10px;\n",
              "    padding-bottom: 10px;\n",
              "    text-align: left; \n",
              "    padding-left: 5px;\n",
              "    background-color: #EEEEEE; \n",
              "    color: black;\n",
              "}\n",
              "\n",
              "div.exercise {\n",
              "\tbackground-color: #ffcccc;\n",
              "\tborder-color: #E9967A; \t\n",
              "\tborder-left: 5px solid #800080; \n",
              "\tpadding: 0.5em;\n",
              "}\n",
              "\n",
              "div.exercise-r {\n",
              "\tbackground-color: #fce8e8;\n",
              "\tborder-color: #E9967A; \t\n",
              "\tborder-left: 5px solid #800080; \n",
              "\tpadding: 0.5em;\n",
              "}\n",
              "\n",
              "\n",
              "span.sub-q {\n",
              "\tfont-weight: bold;\n",
              "}\n",
              "div.theme {\n",
              "\tbackground-color: #DDDDDD;\n",
              "\tborder-color: #E9967A; \t\n",
              "\tborder-left: 5px solid #800080; \n",
              "\tpadding: 0.5em;\n",
              "\tfont-size: 18pt;\n",
              "}\n",
              "div.gc { \n",
              "\tbackground-color: #AEDE94;\n",
              "\tborder-color: #E9967A; \t \n",
              "\tborder-left: 5px solid #800080; \n",
              "\tpadding: 0.5em;\n",
              "\tfont-size: 12pt;\n",
              "}\n",
              "p.q1 { \n",
              "    padding-top: 5px;\n",
              "    padding-bottom: 5px;\n",
              "    text-align: left; \n",
              "    padding-left: 5px;\n",
              "    background-color: #EEEEEE; \n",
              "    color: black;\n",
              "}\n",
              "header {\n",
              "   padding-top: 35px;\n",
              "    padding-bottom: 35px;\n",
              "    text-align: left; \n",
              "    padding-left: 10px;\n",
              "    background-color: #DDDDDD; \n",
              "    color: black;\n",
              "}\n",
              "</style>\n",
              "\n"
            ],
            "text/plain": [
              "<IPython.core.display.HTML object>"
            ]
          },
          "metadata": {
            "tags": []
          },
          "execution_count": 1
        }
      ]
    },
    {
      "cell_type": "code",
      "metadata": {
        "colab": {
          "base_uri": "https://localhost:8080/"
        },
        "id": "CI4MYriNpjGz",
        "outputId": "6381b741-81cb-475f-91f7-c558756e812c"
      },
      "source": [
        "from google.colab import drive\n",
        "drive.mount('/content/drive')"
      ],
      "execution_count": 5,
      "outputs": [
        {
          "output_type": "stream",
          "text": [
            "Mounted at /content/drive\n"
          ],
          "name": "stdout"
        }
      ]
    },
    {
      "cell_type": "code",
      "metadata": {
        "id": "aSCzIIBxpJUU"
      },
      "source": [
        "import numpy as np\n",
        "import matplotlib.pyplot as plt\n",
        "import matplotlib.image as mpimg\n",
        "import numpy as np\n",
        "import pandas as pd\n",
        "from keras.preprocessing.image import ImageDataGenerator, array_to_img, img_to_array, load_img\n",
        "from sklearn.preprocessing import StandardScaler\n",
        "%matplotlib inline\n",
        "\n",
        "from PIL import Image, ImageOps\n",
        "import pathlib\n",
        "\n",
        "DATA_ROOT = '/content/drive/My Drive/CS109A/'"
      ],
      "execution_count": 78,
      "outputs": []
    },
    {
      "cell_type": "code",
      "metadata": {
        "colab": {
          "base_uri": "https://localhost:8080/"
        },
        "id": "pR-bqRo_pRQ7",
        "outputId": "2bf14892-3367-4cdb-ece3-2117de1e6c1e"
      },
      "source": [
        "from __future__ import absolute_import, division, print_function, unicode_literals\n",
        "\n",
        "# TensorFlow and tf.keras\n",
        "import tensorflow as tf\n",
        "\n",
        "tf.keras.backend.clear_session()  # For easy reset of notebook state.\n",
        "\n",
        "print(tf.__version__)  # You should see a 2.0.0 here!"
      ],
      "execution_count": 3,
      "outputs": [
        {
          "output_type": "stream",
          "text": [
            "2.3.0\n"
          ],
          "name": "stdout"
        }
      ]
    },
    {
      "cell_type": "code",
      "metadata": {
        "id": "rCqZJ1_GpbV-"
      },
      "source": [
        "# set the seed for reproducability\n",
        "seed = 7\n",
        "np.random.seed(seed)"
      ],
      "execution_count": 4,
      "outputs": []
    },
    {
      "cell_type": "code",
      "metadata": {
        "colab": {
          "base_uri": "https://localhost:8080/",
          "height": 428
        },
        "id": "80_ikmDFpeCb",
        "outputId": "a0076281-d06b-4764-feb3-57006831613a"
      },
      "source": [
        "# your code here\n",
        "kmnist_train = pd.read_csv(DATA_ROOT + \"kmnist_train.csv\")\n",
        "kmnist_test = pd.read_csv(DATA_ROOT + \"kmnist_test.csv\")\n",
        "\n",
        "kmnist_x_train = kmnist_train.drop(\"output\", axis=1)\n",
        "kmnist_y_train = kmnist_train[\"output\"]\n",
        "\n",
        "# Setting all values to be between 0 and 1\n",
        "kmnist_x_train, kmnist_test = kmnist_x_train / 255.0, kmnist_test / 255.0\n",
        "\n",
        "# Plotting\n",
        "fig, axs = plt.subplots(1, 2, figsize=(15,15))\n",
        "\n",
        "# Choosing for i in range, since we know there's one 1 and one 0 in this range\n",
        "for i in range(1,3):\n",
        "    row = kmnist_x_train.iloc[i]\n",
        "    image_array = row.values.reshape(28,28)\n",
        "    axs[i-1].imshow(image_array, cmap='Greys_r')"
      ],
      "execution_count": 184,
      "outputs": [
        {
          "output_type": "display_data",
          "data": {
            "image/png": "[encoded data removed]",
            "text/plain": [
              "<Figure size 1080x1080 with 2 Axes>"
            ]
          },
          "metadata": {
            "tags": [],
            "needs_background": "light"
          }
        }
      ]
    },
    {
      "cell_type": "code",
      "metadata": {
        "id": "9V5KFvY0qUgD"
      },
      "source": [
        "tf.keras.backend.clear_session()  # For easy reset of notebook state."
      ],
      "execution_count": 54,
      "outputs": []
    },
    {
      "cell_type": "code",
      "metadata": {
        "id": "KV7H22IVqZL6"
      },
      "source": [
        "reg = tf.keras.regularizers.l2(l=0.0001)\n",
        "\n",
        "model_kaggle = tf.keras.Sequential()\n",
        "model_kaggle.add(tf.keras.layers.Flatten(input_shape=(784,)))\n",
        "model_kaggle.add(tf.keras.layers.Dense(100, activation='relu'))\n",
        "model_kaggle.add(tf.keras.layers.Dense(100, activation='relu'))\n",
        "model_kaggle.add(tf.keras.layers.Dense(100, activation='relu'))\n",
        "model_kaggle.add(tf.keras.layers.Dense(1, activation='sigmoid'))"
      ],
      "execution_count": 55,
      "outputs": []
    },
    {
      "cell_type": "code",
      "metadata": {
        "id": "gxck1mhnq0d8"
      },
      "source": [
        "# Loss function (which must be unchanged) and optimizer\n",
        "loss_fn = tf.keras.losses.BinaryCrossentropy()\n",
        "optimizer = tf.keras.optimizers.Adam(learning_rate=0.001)\n",
        "\n",
        "model_kaggle.compile(optimizer=optimizer,\n",
        "              loss=loss_fn,\n",
        "              metrics=['accuracy'])"
      ],
      "execution_count": 56,
      "outputs": []
    },
    {
      "cell_type": "code",
      "metadata": {
        "colab": {
          "base_uri": "https://localhost:8080/"
        },
        "id": "ASoE2nNvq3Z_",
        "outputId": "2d6dd842-dbbc-4d0e-927f-8343c7425572"
      },
      "source": [
        "es = tf.keras.callbacks.EarlyStopping(monitor='val_loss', verbose=1, patience=20) \n",
        "\n",
        "kaggle_history = model_kaggle.fit(kmnist_x_train.values, kmnist_y_train.values, batch_size = 4, validation_split=0.3, epochs=1000, verbose=1, callbacks=[es])"
      ],
      "execution_count": 57,
      "outputs": [
        {
          "output_type": "stream",
          "text": [
            "Epoch 1/1000\n",
            "210/210 [==============================] - 1s 2ms/step - loss: 0.5297 - accuracy: 0.7286 - val_loss: 0.2069 - val_accuracy: 0.9444\n",
            "Epoch 2/1000\n",
            "210/210 [==============================] - 0s 2ms/step - loss: 0.2186 - accuracy: 0.9155 - val_loss: 0.1374 - val_accuracy: 0.9528\n",
            "Epoch 3/1000\n",
            "210/210 [==============================] - 0s 2ms/step - loss: 0.1698 - accuracy: 0.9357 - val_loss: 0.1239 - val_accuracy: 0.9556\n",
            "Epoch 4/1000\n",
            "210/210 [==============================] - 0s 2ms/step - loss: 0.0865 - accuracy: 0.9714 - val_loss: 0.1825 - val_accuracy: 0.9278\n",
            "Epoch 5/1000\n",
            "210/210 [==============================] - 0s 2ms/step - loss: 0.1205 - accuracy: 0.9583 - val_loss: 0.1291 - val_accuracy: 0.9611\n",
            "Epoch 6/1000\n",
            "210/210 [==============================] - 0s 2ms/step - loss: 0.0730 - accuracy: 0.9738 - val_loss: 0.1336 - val_accuracy: 0.9583\n",
            "Epoch 7/1000\n",
            "210/210 [==============================] - 0s 2ms/step - loss: 0.0759 - accuracy: 0.9726 - val_loss: 0.1681 - val_accuracy: 0.9306\n",
            "Epoch 8/1000\n",
            "210/210 [==============================] - 0s 2ms/step - loss: 0.0283 - accuracy: 0.9929 - val_loss: 0.2133 - val_accuracy: 0.9444\n",
            "Epoch 9/1000\n",
            "210/210 [==============================] - 0s 2ms/step - loss: 0.0376 - accuracy: 0.9857 - val_loss: 0.1580 - val_accuracy: 0.9472\n",
            "Epoch 10/1000\n",
            "210/210 [==============================] - 0s 2ms/step - loss: 0.0182 - accuracy: 0.9929 - val_loss: 0.3729 - val_accuracy: 0.9167\n",
            "Epoch 11/1000\n",
            "210/210 [==============================] - 0s 2ms/step - loss: 0.0184 - accuracy: 0.9929 - val_loss: 0.2095 - val_accuracy: 0.9472\n",
            "Epoch 12/1000\n",
            "210/210 [==============================] - 0s 2ms/step - loss: 0.0012 - accuracy: 1.0000 - val_loss: 0.2503 - val_accuracy: 0.9444\n",
            "Epoch 13/1000\n",
            "210/210 [==============================] - 0s 2ms/step - loss: 4.8561e-04 - accuracy: 1.0000 - val_loss: 0.2498 - val_accuracy: 0.9472\n",
            "Epoch 14/1000\n",
            "210/210 [==============================] - 0s 2ms/step - loss: 2.5169e-04 - accuracy: 1.0000 - val_loss: 0.2652 - val_accuracy: 0.9500\n",
            "Epoch 15/1000\n",
            "210/210 [==============================] - 0s 2ms/step - loss: 1.4747e-04 - accuracy: 1.0000 - val_loss: 0.2788 - val_accuracy: 0.9500\n",
            "Epoch 16/1000\n",
            "210/210 [==============================] - 0s 2ms/step - loss: 9.8761e-05 - accuracy: 1.0000 - val_loss: 0.2911 - val_accuracy: 0.9500\n",
            "Epoch 17/1000\n",
            "210/210 [==============================] - 0s 2ms/step - loss: 7.1600e-05 - accuracy: 1.0000 - val_loss: 0.3022 - val_accuracy: 0.9500\n",
            "Epoch 18/1000\n",
            "210/210 [==============================] - 0s 2ms/step - loss: 5.0034e-05 - accuracy: 1.0000 - val_loss: 0.3124 - val_accuracy: 0.9500\n",
            "Epoch 19/1000\n",
            "210/210 [==============================] - 0s 2ms/step - loss: 3.8486e-05 - accuracy: 1.0000 - val_loss: 0.3223 - val_accuracy: 0.9500\n",
            "Epoch 20/1000\n",
            "210/210 [==============================] - 0s 2ms/step - loss: 2.9430e-05 - accuracy: 1.0000 - val_loss: 0.3301 - val_accuracy: 0.9500\n",
            "Epoch 21/1000\n",
            "210/210 [==============================] - 0s 2ms/step - loss: 2.3541e-05 - accuracy: 1.0000 - val_loss: 0.3382 - val_accuracy: 0.9500\n",
            "Epoch 22/1000\n",
            "210/210 [==============================] - 0s 2ms/step - loss: 1.9130e-05 - accuracy: 1.0000 - val_loss: 0.3455 - val_accuracy: 0.9500\n",
            "Epoch 23/1000\n",
            "210/210 [==============================] - 0s 2ms/step - loss: 1.5499e-05 - accuracy: 1.0000 - val_loss: 0.3524 - val_accuracy: 0.9500\n",
            "Epoch 00023: early stopping\n"
          ],
          "name": "stdout"
        }
      ]
    },
    {
      "cell_type": "code",
      "metadata": {
        "colab": {
          "base_uri": "https://localhost:8080/",
          "height": 325
        },
        "id": "t6gK6ms2rAtj",
        "outputId": "0b41c6a5-6893-41b7-f20c-3a44de414794"
      },
      "source": [
        "# Plotting training and validation accuracy\n",
        "fig, ax = plt.subplots(figsize = (16,4))\n",
        "ax.plot(kaggle_history.history['accuracy'],'r',label = 'Training Accuracy')\n",
        "ax.plot(kaggle_history.history['val_accuracy'],'b',label = 'Validation Accuracy')\n",
        "ax.legend()\n",
        "ax.set_xlabel('Epochs');\n",
        "ax.set_ylabel('Accuracy %');\n",
        "fig.suptitle('MLP Training', fontsize = 24)"
      ],
      "execution_count": 58,
      "outputs": [
        {
          "output_type": "execute_result",
          "data": {
            "text/plain": [
              "Text(0.5, 0.98, 'MLP Training')"
            ]
          },
          "metadata": {
            "tags": []
          },
          "execution_count": 58
        },
        {
          "output_type": "display_data",
          "data": {
            "image/png": "[encoded data removed]",
            "text/plain": [
              "<Figure size 1152x288 with 1 Axes>"
            ]
          },
          "metadata": {
            "tags": [],
            "needs_background": "light"
          }
        }
      ]
    },
    {
      "cell_type": "code",
      "metadata": {
        "id": "oaCf69-213EG"
      },
      "source": [
        "batch_size = 16\n",
        "\n",
        "# this is the augmentation configuration we will use for training\n",
        "train_datagen = ImageDataGenerator(\n",
        "        rescale=1./255,\n",
        "        shear_range=0.2,\n",
        "        zoom_range=0.2,\n",
        "        horizontal_flip=True)"
      ],
      "execution_count": 61,
      "outputs": []
    },
    {
      "cell_type": "code",
      "metadata": {
        "colab": {
          "base_uri": "https://localhost:8080/",
          "height": 865
        },
        "id": "TIdGl3mf3pjA",
        "outputId": "cb0093b6-b4c9-4a57-88b4-2bc1492031fb"
      },
      "source": [
        "kmnist_x_train.values\n",
        "\n",
        "fig, axs = plt.subplots(5, 1, figsize=(15,15))\n",
        "\n",
        "kmnist_x_train_new = kmnist_x_train\n",
        "\n",
        "new_list = []\n",
        "\n",
        "for i in range(kmnist_x_train.shape[0]):\n",
        "  rot_num = np.random.uniform(low=-45.0, high=45.0, size=(1,))[0]\n",
        "  x_shift = np.random.uniform(low=-5.0, high=5.0, size=(1,))[0]\n",
        "  y_shift = np.random.uniform(low=-5.0, high=5.0, size=(1,))[0]\n",
        "  x_zoom = np.random.uniform(low=.9, high=1.1, size=(1,))[0]\n",
        "  y_zoom = np.random.uniform(low=.9, high=1.1, size=(1,))[0]\n",
        "  data = kmnist_x_train.values[i].reshape(28,28)\n",
        "  data_batch = (np.expand_dims(data,0))\n",
        "  #x_input = array_to_img(data_batch, data_format=\"channels_first\")\n",
        "  #axs[i-1].imshow(x_input, cmap='Greys_r')\n",
        "  new_image = ImageDataGenerator().apply_transform(x=data_batch, transform_parameters=\n",
        "                              {'theta': rot_num,\n",
        "                               'tx': x_shift,\n",
        "                               'ty': y_shift, \n",
        "                               'zx': x_zoom,\n",
        "                               'zy': y_zoom})\n",
        "  x_input = array_to_img(new_image, data_format=\"channels_first\")\n",
        "  if i < 5:\n",
        "    axs[i].imshow(x_input, cmap='Greys_r')\n",
        "  reshaped = new_image.reshape(784,)\n",
        "  #print(kmnist_x_train_new.shape)\n",
        "  new_list.append(reshaped)\n",
        "  kmnist_x_train_new.append(pd.Series(reshaped), ignore_index=True)\n",
        "  #np.vstack((kmnist_x_train_new.values, reshaped))"
      ],
      "execution_count": 204,
      "outputs": [
        {
          "output_type": "display_data",
          "data": {
            "image/png": "[encoded data removed]",
            "text/plain": [
              "<Figure size 1080x1080 with 5 Axes>"
            ]
          },
          "metadata": {
            "tags": [],
            "needs_background": "light"
          }
        }
      ]
    },
    {
      "cell_type": "code",
      "metadata": {
        "id": "WUk9QXVtIEsl"
      },
      "source": [
        "#kmnist_x_train_new.shape\n",
        "\n",
        "new_list_array = np.array(new_list)\n",
        "\n",
        "kmnist_augmented = np.vstack((kmnist_x_train_new, new_list_array))\n",
        "\n",
        "kmnist_y_train_new = np.hstack((kmnist_y_train, kmnist_y_train))"
      ],
      "execution_count": 193,
      "outputs": []
    },
    {
      "cell_type": "code",
      "metadata": {
        "colab": {
          "base_uri": "https://localhost:8080/"
        },
        "id": "qSwNWohmNzsM",
        "outputId": "7652bd68-0b26-487d-9c01-c2c50b8f0d9b"
      },
      "source": [
        "kmnist_y_train_new.shape"
      ],
      "execution_count": 195,
      "outputs": [
        {
          "output_type": "execute_result",
          "data": {
            "text/plain": [
              "(2400,)"
            ]
          },
          "metadata": {
            "tags": []
          },
          "execution_count": 195
        }
      ]
    },
    {
      "cell_type": "code",
      "metadata": {
        "id": "HKqegkf-OOdO"
      },
      "source": [
        "reg = tf.keras.regularizers.l2(l=0.0001)\n",
        "\n",
        "model_aug = tf.keras.Sequential()\n",
        "model_aug.add(tf.keras.layers.Flatten(input_shape=(784,)))\n",
        "model_aug.add(tf.keras.layers.Dense(100, activation='relu'))\n",
        "model_aug.add(tf.keras.layers.Dense(100, activation='relu'))\n",
        "model_aug.add(tf.keras.layers.Dense(100, activation='relu'))\n",
        "model_aug.add(tf.keras.layers.Dense(1, activation='sigmoid'))"
      ],
      "execution_count": 196,
      "outputs": []
    },
    {
      "cell_type": "code",
      "metadata": {
        "id": "NXsFLEg9OYpu"
      },
      "source": [
        "# Loss function (which must be unchanged) and optimizer\n",
        "loss_fn = tf.keras.losses.BinaryCrossentropy()\n",
        "optimizer = tf.keras.optimizers.Adam(learning_rate=0.001)\n",
        "\n",
        "model_aug.compile(optimizer=optimizer,\n",
        "              loss=loss_fn,\n",
        "              metrics=['accuracy'])"
      ],
      "execution_count": 197,
      "outputs": []
    },
    {
      "cell_type": "code",
      "metadata": {
        "colab": {
          "base_uri": "https://localhost:8080/"
        },
        "id": "cBI_udUuOhw0",
        "outputId": "0855f1f7-84bd-48ec-9ea2-cb919dd35ff3"
      },
      "source": [
        "es = tf.keras.callbacks.EarlyStopping(monitor='val_loss', verbose=1, patience=20) \n",
        "\n",
        "aug_history = model_aug.fit(kmnist_augmented, kmnist_y_train_new, batch_size = 4, validation_split=0.3, epochs=1000, verbose=1, callbacks=[es])"
      ],
      "execution_count": 201,
      "outputs": [
        {
          "output_type": "stream",
          "text": [
            "Epoch 1/1000\n",
            "420/420 [==============================] - 1s 2ms/step - loss: 0.3075 - accuracy: 0.8810 - val_loss: 0.1116 - val_accuracy: 0.9639\n",
            "Epoch 2/1000\n",
            "420/420 [==============================] - 1s 2ms/step - loss: 0.2298 - accuracy: 0.9131 - val_loss: 0.1455 - val_accuracy: 0.9361\n",
            "Epoch 3/1000\n",
            "420/420 [==============================] - 1s 2ms/step - loss: 0.1856 - accuracy: 0.9339 - val_loss: 0.0809 - val_accuracy: 0.9750\n",
            "Epoch 4/1000\n",
            "420/420 [==============================] - 1s 2ms/step - loss: 0.1556 - accuracy: 0.9387 - val_loss: 0.0620 - val_accuracy: 0.9889\n",
            "Epoch 5/1000\n",
            "420/420 [==============================] - 1s 2ms/step - loss: 0.1329 - accuracy: 0.9554 - val_loss: 0.0552 - val_accuracy: 0.9861\n",
            "Epoch 6/1000\n",
            "420/420 [==============================] - 1s 2ms/step - loss: 0.1093 - accuracy: 0.9583 - val_loss: 0.3277 - val_accuracy: 0.8222\n",
            "Epoch 7/1000\n",
            "420/420 [==============================] - 1s 2ms/step - loss: 0.1145 - accuracy: 0.9560 - val_loss: 0.0162 - val_accuracy: 1.0000\n",
            "Epoch 8/1000\n",
            "420/420 [==============================] - 1s 2ms/step - loss: 0.0864 - accuracy: 0.9655 - val_loss: 0.1248 - val_accuracy: 0.9528\n",
            "Epoch 9/1000\n",
            "420/420 [==============================] - 1s 2ms/step - loss: 0.0731 - accuracy: 0.9762 - val_loss: 0.0300 - val_accuracy: 0.9889\n",
            "Epoch 10/1000\n",
            "420/420 [==============================] - 1s 2ms/step - loss: 0.0722 - accuracy: 0.9726 - val_loss: 0.0822 - val_accuracy: 0.9528\n",
            "Epoch 11/1000\n",
            "420/420 [==============================] - 1s 2ms/step - loss: 0.0623 - accuracy: 0.9774 - val_loss: 0.0104 - val_accuracy: 1.0000\n",
            "Epoch 12/1000\n",
            "420/420 [==============================] - 1s 2ms/step - loss: 0.0556 - accuracy: 0.9833 - val_loss: 0.0016 - val_accuracy: 1.0000\n",
            "Epoch 13/1000\n",
            "420/420 [==============================] - 1s 2ms/step - loss: 0.0289 - accuracy: 0.9929 - val_loss: 0.0058 - val_accuracy: 1.0000\n",
            "Epoch 14/1000\n",
            "420/420 [==============================] - 1s 2ms/step - loss: 0.0298 - accuracy: 0.9917 - val_loss: 0.0109 - val_accuracy: 0.9972\n",
            "Epoch 15/1000\n",
            "420/420 [==============================] - 1s 2ms/step - loss: 0.0753 - accuracy: 0.9780 - val_loss: 0.0167 - val_accuracy: 0.9944\n",
            "Epoch 16/1000\n",
            "420/420 [==============================] - 1s 2ms/step - loss: 0.0221 - accuracy: 0.9964 - val_loss: 0.0066 - val_accuracy: 0.9972\n",
            "Epoch 17/1000\n",
            "420/420 [==============================] - 1s 2ms/step - loss: 0.0723 - accuracy: 0.9720 - val_loss: 0.0059 - val_accuracy: 1.0000\n",
            "Epoch 18/1000\n",
            "420/420 [==============================] - 1s 2ms/step - loss: 0.0119 - accuracy: 0.9988 - val_loss: 0.0013 - val_accuracy: 1.0000\n",
            "Epoch 19/1000\n",
            "420/420 [==============================] - 1s 2ms/step - loss: 0.0129 - accuracy: 0.9958 - val_loss: 8.9165e-04 - val_accuracy: 1.0000\n",
            "Epoch 20/1000\n",
            "420/420 [==============================] - 1s 2ms/step - loss: 0.1042 - accuracy: 0.9679 - val_loss: 0.0105 - val_accuracy: 1.0000\n",
            "Epoch 21/1000\n",
            "420/420 [==============================] - 1s 2ms/step - loss: 0.0197 - accuracy: 0.9946 - val_loss: 0.0040 - val_accuracy: 1.0000\n",
            "Epoch 22/1000\n",
            "420/420 [==============================] - 1s 2ms/step - loss: 0.0440 - accuracy: 0.9881 - val_loss: 0.0274 - val_accuracy: 0.9861\n",
            "Epoch 23/1000\n",
            "420/420 [==============================] - 1s 2ms/step - loss: 0.0102 - accuracy: 0.9994 - val_loss: 5.0039e-04 - val_accuracy: 1.0000\n",
            "Epoch 24/1000\n",
            "420/420 [==============================] - 1s 2ms/step - loss: 0.0059 - accuracy: 0.9994 - val_loss: 2.3857e-04 - val_accuracy: 1.0000\n",
            "Epoch 25/1000\n",
            "420/420 [==============================] - 1s 2ms/step - loss: 0.0059 - accuracy: 0.9994 - val_loss: 2.5192e-04 - val_accuracy: 1.0000\n",
            "Epoch 26/1000\n",
            "420/420 [==============================] - 1s 2ms/step - loss: 0.0051 - accuracy: 0.9994 - val_loss: 2.8030e-04 - val_accuracy: 1.0000\n",
            "Epoch 27/1000\n",
            "420/420 [==============================] - 1s 2ms/step - loss: 0.0048 - accuracy: 0.9994 - val_loss: 3.2248e-04 - val_accuracy: 1.0000\n",
            "Epoch 28/1000\n",
            "420/420 [==============================] - 1s 2ms/step - loss: 0.0051 - accuracy: 0.9994 - val_loss: 8.2232e-04 - val_accuracy: 1.0000\n",
            "Epoch 29/1000\n",
            "420/420 [==============================] - 1s 2ms/step - loss: 0.0043 - accuracy: 0.9994 - val_loss: 4.6489e-04 - val_accuracy: 1.0000\n",
            "Epoch 30/1000\n",
            "420/420 [==============================] - 1s 2ms/step - loss: 0.0035 - accuracy: 0.9994 - val_loss: 9.5714e-05 - val_accuracy: 1.0000\n",
            "Epoch 31/1000\n",
            "420/420 [==============================] - 1s 2ms/step - loss: 0.0042 - accuracy: 0.9994 - val_loss: 6.8756e-05 - val_accuracy: 1.0000\n",
            "Epoch 32/1000\n",
            "420/420 [==============================] - 1s 2ms/step - loss: 0.0034 - accuracy: 0.9994 - val_loss: 4.2587e-05 - val_accuracy: 1.0000\n",
            "Epoch 33/1000\n",
            "420/420 [==============================] - 1s 2ms/step - loss: 0.1389 - accuracy: 0.9756 - val_loss: 0.0757 - val_accuracy: 0.9806\n",
            "Epoch 34/1000\n",
            "420/420 [==============================] - 1s 2ms/step - loss: 0.0599 - accuracy: 0.9810 - val_loss: 0.0091 - val_accuracy: 1.0000\n",
            "Epoch 35/1000\n",
            "420/420 [==============================] - 1s 2ms/step - loss: 0.0350 - accuracy: 0.9893 - val_loss: 0.0602 - val_accuracy: 0.9750\n",
            "Epoch 36/1000\n",
            "420/420 [==============================] - 1s 2ms/step - loss: 0.0355 - accuracy: 0.9887 - val_loss: 0.0289 - val_accuracy: 0.9944\n",
            "Epoch 37/1000\n",
            "420/420 [==============================] - 1s 2ms/step - loss: 0.0082 - accuracy: 0.9988 - val_loss: 7.6886e-04 - val_accuracy: 1.0000\n",
            "Epoch 38/1000\n",
            "420/420 [==============================] - 1s 2ms/step - loss: 0.0048 - accuracy: 0.9994 - val_loss: 6.5112e-04 - val_accuracy: 1.0000\n",
            "Epoch 39/1000\n",
            "420/420 [==============================] - 1s 2ms/step - loss: 0.0034 - accuracy: 0.9994 - val_loss: 3.5117e-04 - val_accuracy: 1.0000\n",
            "Epoch 40/1000\n",
            "420/420 [==============================] - 1s 2ms/step - loss: 0.0029 - accuracy: 0.9994 - val_loss: 2.7248e-04 - val_accuracy: 1.0000\n",
            "Epoch 41/1000\n",
            "420/420 [==============================] - 1s 2ms/step - loss: 0.0026 - accuracy: 0.9994 - val_loss: 2.3722e-04 - val_accuracy: 1.0000\n",
            "Epoch 42/1000\n",
            "420/420 [==============================] - 1s 2ms/step - loss: 0.0023 - accuracy: 0.9994 - val_loss: 1.6157e-04 - val_accuracy: 1.0000\n",
            "Epoch 43/1000\n",
            "420/420 [==============================] - 1s 2ms/step - loss: 0.0033 - accuracy: 0.9994 - val_loss: 6.0493e-04 - val_accuracy: 1.0000\n",
            "Epoch 44/1000\n",
            "420/420 [==============================] - 1s 2ms/step - loss: 0.1831 - accuracy: 0.9381 - val_loss: 0.0087 - val_accuracy: 1.0000\n",
            "Epoch 45/1000\n",
            "420/420 [==============================] - 1s 2ms/step - loss: 0.0450 - accuracy: 0.9875 - val_loss: 0.0039 - val_accuracy: 1.0000\n",
            "Epoch 46/1000\n",
            "420/420 [==============================] - 1s 2ms/step - loss: 0.0275 - accuracy: 0.9911 - val_loss: 0.0051 - val_accuracy: 0.9972\n",
            "Epoch 47/1000\n",
            "420/420 [==============================] - 1s 2ms/step - loss: 0.0185 - accuracy: 0.9935 - val_loss: 0.0010 - val_accuracy: 1.0000\n",
            "Epoch 48/1000\n",
            "420/420 [==============================] - 1s 2ms/step - loss: 0.0065 - accuracy: 0.9994 - val_loss: 0.0011 - val_accuracy: 1.0000\n",
            "Epoch 49/1000\n",
            "420/420 [==============================] - 1s 2ms/step - loss: 0.0061 - accuracy: 0.9994 - val_loss: 9.6191e-04 - val_accuracy: 1.0000\n",
            "Epoch 50/1000\n",
            "420/420 [==============================] - 1s 2ms/step - loss: 0.0057 - accuracy: 0.9994 - val_loss: 0.0013 - val_accuracy: 1.0000\n",
            "Epoch 51/1000\n",
            "420/420 [==============================] - 1s 2ms/step - loss: 0.0057 - accuracy: 0.9994 - val_loss: 6.3725e-04 - val_accuracy: 1.0000\n",
            "Epoch 52/1000\n",
            "420/420 [==============================] - 1s 2ms/step - loss: 0.0056 - accuracy: 0.9994 - val_loss: 6.1319e-04 - val_accuracy: 1.0000\n",
            "Epoch 00052: early stopping\n"
          ],
          "name": "stdout"
        }
      ]
    },
    {
      "cell_type": "code",
      "metadata": {
        "id": "3mgVf4enrEHp"
      },
      "source": [
        "# your code here \n",
        "# THIS WILL NOT CHANGE\n",
        "predictions = model_aug.predict_classes(kmnist_test.values).flatten()\n",
        "\n",
        "predictions.shape\n",
        "\n",
        "data = {'id': kmnist_test.index, 'category': predictions}\n",
        "\n",
        "predictions_df = pd.DataFrame(data)"
      ],
      "execution_count": 202,
      "outputs": []
    },
    {
      "cell_type": "code",
      "metadata": {
        "id": "LRv2eSpvrM3Z"
      },
      "source": [
        "predictions_df.to_csv(DATA_ROOT + \"skimble_predictions4.csv\", index=False)"
      ],
      "execution_count": 203,
      "outputs": []
    }
  ]
}